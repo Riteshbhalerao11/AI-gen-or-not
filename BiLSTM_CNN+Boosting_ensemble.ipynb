{
 "cells": [
  {
   "cell_type": "code",
   "execution_count": 1,
   "id": "03fb21f6",
   "metadata": {
    "_cell_guid": "b1076dfc-b9ad-4769-8c92-a6c4dae69d19",
    "_uuid": "8f2839f25d086af736a60e9eeb907d3b93b6e0e5",
    "execution": {
     "iopub.execute_input": "2024-01-19T01:21:22.656774Z",
     "iopub.status.busy": "2024-01-19T01:21:22.656297Z",
     "iopub.status.idle": "2024-01-19T01:21:47.150240Z",
     "shell.execute_reply": "2024-01-19T01:21:47.148914Z"
    },
    "papermill": {
     "duration": 24.50698,
     "end_time": "2024-01-19T01:21:47.153313",
     "exception": false,
     "start_time": "2024-01-19T01:21:22.646333",
     "status": "completed"
    },
    "tags": []
   },
   "outputs": [],
   "source": [
    "import pandas as pd\n",
    "import numpy as np\n",
    "from sklearn.preprocessing import LabelEncoder\n",
    "from sklearn.feature_extraction.text import TfidfVectorizer\n",
    "import regex as re\n",
    "import matplotlib.pyplot as plt\n",
    "from scipy.sparse import  hstack, csr_matrix, vstack\n",
    "import random\n",
    "from transformers import BertTokenizer\n",
    "from tensorflow.keras.preprocessing.sequence import pad_sequences\n",
    "import tensorflow as tf\n",
    "from tensorflow.keras.models import Model, Sequential\n",
    "from tensorflow.keras.layers import Attention, Input, Dense, concatenate, MaxPooling1D, Activation, Add, Flatten, Conv1D, Conv2D\n",
    "from tensorflow.keras.optimizers import Adam\n",
    "from sklearn.model_selection import train_test_split\n",
    "import tensorflow_text as tf_text\n",
    "import nltk\n",
    "from nltk.corpus import stopwords\n",
    "from nltk.tokenize import WhitespaceTokenizer\n",
    "from nltk.stem import WordNetLemmatizer\n",
    "\n",
    "from tensorflow.keras.layers import TextVectorization, Embedding, Bidirectional, LSTM, Conv1D, GlobalMaxPooling1D, Dense, Reshape , GlobalAveragePooling1D\n",
    "from tensorflow.keras import Model, Input\n",
    "\n",
    "from sklearn.feature_extraction.text import TfidfVectorizer\n",
    "from sklearn.model_selection import StratifiedKFold, train_test_split\n",
    "from sklearn.linear_model import SGDClassifier\n",
    "from sklearn.naive_bayes import MultinomialNB\n",
    "from sklearn.ensemble import VotingClassifier, RandomForestClassifier\n",
    "from sklearn.metrics import roc_auc_score\n",
    "from catboost import CatBoostClassifier\n",
    "from lightgbm import LGBMClassifier\n",
    "\n",
    "from transformers import PreTrainedTokenizerFast\n",
    "from tokenizers import (\n",
    "    decoders,\n",
    "    models,\n",
    "    normalizers,\n",
    "    pre_tokenizers,\n",
    "    processors,\n",
    "    trainers,\n",
    "    Tokenizer,\n",
    ")\n",
    "\n",
    "from datasets import Dataset\n",
    "from tqdm.auto import tqdm\n",
    "import sys\n",
    "import gc"
   ]
  },
  {
   "cell_type": "code",
   "execution_count": 2,
   "id": "31830a49",
   "metadata": {
    "execution": {
     "iopub.execute_input": "2024-01-19T01:21:47.170068Z",
     "iopub.status.busy": "2024-01-19T01:21:47.169042Z",
     "iopub.status.idle": "2024-01-19T01:21:49.625104Z",
     "shell.execute_reply": "2024-01-19T01:21:49.623915Z"
    },
    "papermill": {
     "duration": 2.467564,
     "end_time": "2024-01-19T01:21:49.628135",
     "exception": false,
     "start_time": "2024-01-19T01:21:47.160571",
     "status": "completed"
    },
    "tags": []
   },
   "outputs": [],
   "source": [
    "train_extra = pd.read_csv(\"/kaggle/input/daigt-v2-train-dataset/train_v2_drcat_02.csv\", sep=',')\n",
    "\n",
    "train_extra = train_extra[train_extra['source'] != 'train_essays']\n",
    "# train_extra = train_extra[train_extra.RDizzl3_seven]\n",
    "train_extra.drop(columns=['source','RDizzl3_seven','prompt_name'],inplace=True)\n",
    "train_extra.rename(columns={'label' : 'generated'}, inplace=True)\n",
    "df_train = train_extra\n",
    "df_train.reset_index(inplace=True,drop=True)"
   ]
  },
  {
   "cell_type": "code",
   "execution_count": 3,
   "id": "99025abe",
   "metadata": {
    "execution": {
     "iopub.execute_input": "2024-01-19T01:21:49.643856Z",
     "iopub.status.busy": "2024-01-19T01:21:49.643347Z",
     "iopub.status.idle": "2024-01-19T01:21:49.660973Z",
     "shell.execute_reply": "2024-01-19T01:21:49.659443Z"
    },
    "papermill": {
     "duration": 0.029097,
     "end_time": "2024-01-19T01:21:49.664089",
     "exception": false,
     "start_time": "2024-01-19T01:21:49.634992",
     "status": "completed"
    },
    "tags": []
   },
   "outputs": [],
   "source": [
    "df_test = pd.read_csv('/kaggle/input/llm-detect-ai-generated-text/test_essays.csv')\n",
    "sub = pd.read_csv('/kaggle/input/llm-detect-ai-generated-text/sample_submission.csv')"
   ]
  },
  {
   "cell_type": "code",
   "execution_count": 4,
   "id": "3035f2dc",
   "metadata": {
    "execution": {
     "iopub.execute_input": "2024-01-19T01:21:49.680627Z",
     "iopub.status.busy": "2024-01-19T01:21:49.680140Z",
     "iopub.status.idle": "2024-01-19T01:21:49.703208Z",
     "shell.execute_reply": "2024-01-19T01:21:49.701963Z"
    },
    "papermill": {
     "duration": 0.034833,
     "end_time": "2024-01-19T01:21:49.705976",
     "exception": false,
     "start_time": "2024-01-19T01:21:49.671143",
     "status": "completed"
    },
    "tags": []
   },
   "outputs": [
    {
     "data": {
      "text/html": [
       "<div>\n",
       "<style scoped>\n",
       "    .dataframe tbody tr th:only-of-type {\n",
       "        vertical-align: middle;\n",
       "    }\n",
       "\n",
       "    .dataframe tbody tr th {\n",
       "        vertical-align: top;\n",
       "    }\n",
       "\n",
       "    .dataframe thead th {\n",
       "        text-align: right;\n",
       "    }\n",
       "</style>\n",
       "<table border=\"1\" class=\"dataframe\">\n",
       "  <thead>\n",
       "    <tr style=\"text-align: right;\">\n",
       "      <th></th>\n",
       "      <th>text</th>\n",
       "      <th>generated</th>\n",
       "    </tr>\n",
       "  </thead>\n",
       "  <tbody>\n",
       "    <tr>\n",
       "      <th>0</th>\n",
       "      <td>Phones\\n\\nModern humans today are always on th...</td>\n",
       "      <td>0</td>\n",
       "    </tr>\n",
       "    <tr>\n",
       "      <th>1</th>\n",
       "      <td>This essay will explain if drivers should or s...</td>\n",
       "      <td>0</td>\n",
       "    </tr>\n",
       "    <tr>\n",
       "      <th>2</th>\n",
       "      <td>Driving while the use of cellular devices\\n\\nT...</td>\n",
       "      <td>0</td>\n",
       "    </tr>\n",
       "    <tr>\n",
       "      <th>3</th>\n",
       "      <td>Phones &amp; Driving\\n\\nDrivers should not be able...</td>\n",
       "      <td>0</td>\n",
       "    </tr>\n",
       "    <tr>\n",
       "      <th>4</th>\n",
       "      <td>Cell Phone Operation While Driving\\n\\nThe abil...</td>\n",
       "      <td>0</td>\n",
       "    </tr>\n",
       "    <tr>\n",
       "      <th>...</th>\n",
       "      <td>...</td>\n",
       "      <td>...</td>\n",
       "    </tr>\n",
       "    <tr>\n",
       "      <th>43485</th>\n",
       "      <td>Dear Senator,\\n\\nI am writing to you today to ...</td>\n",
       "      <td>1</td>\n",
       "    </tr>\n",
       "    <tr>\n",
       "      <th>43486</th>\n",
       "      <td>Dear Senator,\\n\\nI am writing to you today to ...</td>\n",
       "      <td>1</td>\n",
       "    </tr>\n",
       "    <tr>\n",
       "      <th>43487</th>\n",
       "      <td>Dear Senator,\\n\\nI am writing to you today to ...</td>\n",
       "      <td>1</td>\n",
       "    </tr>\n",
       "    <tr>\n",
       "      <th>43488</th>\n",
       "      <td>Dear Senator,\\n\\nI am writing to you today to ...</td>\n",
       "      <td>1</td>\n",
       "    </tr>\n",
       "    <tr>\n",
       "      <th>43489</th>\n",
       "      <td>Dear Senator,\\n\\nI am writing to you today to ...</td>\n",
       "      <td>1</td>\n",
       "    </tr>\n",
       "  </tbody>\n",
       "</table>\n",
       "<p>43490 rows × 2 columns</p>\n",
       "</div>"
      ],
      "text/plain": [
       "                                                    text  generated\n",
       "0      Phones\\n\\nModern humans today are always on th...          0\n",
       "1      This essay will explain if drivers should or s...          0\n",
       "2      Driving while the use of cellular devices\\n\\nT...          0\n",
       "3      Phones & Driving\\n\\nDrivers should not be able...          0\n",
       "4      Cell Phone Operation While Driving\\n\\nThe abil...          0\n",
       "...                                                  ...        ...\n",
       "43485  Dear Senator,\\n\\nI am writing to you today to ...          1\n",
       "43486  Dear Senator,\\n\\nI am writing to you today to ...          1\n",
       "43487  Dear Senator,\\n\\nI am writing to you today to ...          1\n",
       "43488  Dear Senator,\\n\\nI am writing to you today to ...          1\n",
       "43489  Dear Senator,\\n\\nI am writing to you today to ...          1\n",
       "\n",
       "[43490 rows x 2 columns]"
      ]
     },
     "execution_count": 4,
     "metadata": {},
     "output_type": "execute_result"
    }
   ],
   "source": [
    "df_train"
   ]
  },
  {
   "cell_type": "code",
   "execution_count": 5,
   "id": "fb7ef8a1",
   "metadata": {
    "execution": {
     "iopub.execute_input": "2024-01-19T01:21:49.722953Z",
     "iopub.status.busy": "2024-01-19T01:21:49.722475Z",
     "iopub.status.idle": "2024-01-19T01:21:49.728339Z",
     "shell.execute_reply": "2024-01-19T01:21:49.727037Z"
    },
    "papermill": {
     "duration": 0.01696,
     "end_time": "2024-01-19T01:21:49.730694",
     "exception": false,
     "start_time": "2024-01-19T01:21:49.713734",
     "status": "completed"
    },
    "tags": []
   },
   "outputs": [],
   "source": [
    "train_size = df_train.shape[0]\n",
    "train_labels = df_train.generated.values"
   ]
  },
  {
   "cell_type": "code",
   "execution_count": 6,
   "id": "07301b0e",
   "metadata": {
    "execution": {
     "iopub.execute_input": "2024-01-19T01:21:49.747341Z",
     "iopub.status.busy": "2024-01-19T01:21:49.746856Z",
     "iopub.status.idle": "2024-01-19T01:21:49.751731Z",
     "shell.execute_reply": "2024-01-19T01:21:49.750592Z"
    },
    "papermill": {
     "duration": 0.01603,
     "end_time": "2024-01-19T01:21:49.754029",
     "exception": false,
     "start_time": "2024-01-19T01:21:49.737999",
     "status": "completed"
    },
    "tags": []
   },
   "outputs": [],
   "source": [
    "tok_path = '/kaggle/input/huggingface-bert-variants/bert-base-cased/bert-base-cased'"
   ]
  },
  {
   "cell_type": "code",
   "execution_count": 7,
   "id": "4abb337d",
   "metadata": {
    "execution": {
     "iopub.execute_input": "2024-01-19T01:21:49.770386Z",
     "iopub.status.busy": "2024-01-19T01:21:49.769935Z",
     "iopub.status.idle": "2024-01-19T01:22:00.414641Z",
     "shell.execute_reply": "2024-01-19T01:22:00.413404Z"
    },
    "papermill": {
     "duration": 10.656397,
     "end_time": "2024-01-19T01:22:00.417648",
     "exception": false,
     "start_time": "2024-01-19T01:21:49.761251",
     "status": "completed"
    },
    "tags": []
   },
   "outputs": [],
   "source": [
    "def clean_text(text):\n",
    "    # Replace actual newline and carriage return characters with whitespace\n",
    "    text = text.replace(\"\\n\", \" \")\n",
    "    text = text.replace(\"\\r\", \" \")\n",
    "    \n",
    "    # Drop punctuation\n",
    "    text = re.sub(r\"\\p{P}\", \" \", text)\n",
    "    \n",
    "    # Remove extra spaces\n",
    "    text = re.sub(r\"\\s+\", \" \", text)\n",
    "    \n",
    "    # Remove leading and trailing whitespace\n",
    "    text = text.strip()\n",
    "    \n",
    "    # Lower text\n",
    "    text = text.lower()\n",
    "    \n",
    "    # Remove numbers\n",
    "    text = re.sub(r\"\\d+\", \"\", text)\n",
    "    \n",
    "    return text\n",
    "\n",
    "df_test['text'] =  df_test['text'].apply(clean_text)\n",
    "df_train['text'] =  df_train['text'].apply(clean_text)"
   ]
  },
  {
   "cell_type": "code",
   "execution_count": 8,
   "id": "0696e633",
   "metadata": {
    "execution": {
     "iopub.execute_input": "2024-01-19T01:22:00.434881Z",
     "iopub.status.busy": "2024-01-19T01:22:00.434383Z",
     "iopub.status.idle": "2024-01-19T01:22:02.033606Z",
     "shell.execute_reply": "2024-01-19T01:22:02.032236Z"
    },
    "papermill": {
     "duration": 1.61161,
     "end_time": "2024-01-19T01:22:02.036984",
     "exception": false,
     "start_time": "2024-01-19T01:22:00.425374",
     "status": "completed"
    },
    "tags": []
   },
   "outputs": [],
   "source": [
    "# Change contractions\n",
    "contractions = {\n",
    "    r'\\b(can\\'t)\\b': 'cannot',\n",
    "    r'\\b(don\\'t)\\b': 'do not',\n",
    "    r'\\b(won\\'t)\\b': 'will not',\n",
    "}\n",
    "\n",
    "# Iterate through contractions and apply replacements to the entire DataFrame column\n",
    "for pattern, replacement in contractions.items():\n",
    "    df_test['text'] =  df_test['text'].apply(lambda x: re.sub(pattern, replacement, x, flags=re.IGNORECASE))\n",
    "    df_train['text'] =  df_train['text'].apply(lambda x: re.sub(pattern, replacement, x, flags=re.IGNORECASE))"
   ]
  },
  {
   "cell_type": "code",
   "execution_count": 9,
   "id": "f9433be0",
   "metadata": {
    "execution": {
     "iopub.execute_input": "2024-01-19T01:22:02.053810Z",
     "iopub.status.busy": "2024-01-19T01:22:02.053302Z",
     "iopub.status.idle": "2024-01-19T01:22:02.063866Z",
     "shell.execute_reply": "2024-01-19T01:22:02.062833Z"
    },
    "papermill": {
     "duration": 0.022406,
     "end_time": "2024-01-19T01:22:02.066845",
     "exception": false,
     "start_time": "2024-01-19T01:22:02.044439",
     "status": "completed"
    },
    "tags": []
   },
   "outputs": [],
   "source": [
    "text_data = pd.concat([df_train.text,df_test.text]).values"
   ]
  },
  {
   "cell_type": "code",
   "execution_count": 10,
   "id": "d12f8a62",
   "metadata": {
    "execution": {
     "iopub.execute_input": "2024-01-19T01:22:02.084350Z",
     "iopub.status.busy": "2024-01-19T01:22:02.083886Z",
     "iopub.status.idle": "2024-01-19T01:22:02.227930Z",
     "shell.execute_reply": "2024-01-19T01:22:02.226605Z"
    },
    "papermill": {
     "duration": 0.156562,
     "end_time": "2024-01-19T01:22:02.230978",
     "exception": false,
     "start_time": "2024-01-19T01:22:02.074416",
     "status": "completed"
    },
    "tags": []
   },
   "outputs": [],
   "source": [
    "tokenizer = BertTokenizer.from_pretrained(tok_path, do_lower_case = True)"
   ]
  },
  {
   "cell_type": "code",
   "execution_count": 11,
   "id": "9a2fa8c0",
   "metadata": {
    "execution": {
     "iopub.execute_input": "2024-01-19T01:22:02.247818Z",
     "iopub.status.busy": "2024-01-19T01:22:02.246742Z",
     "iopub.status.idle": "2024-01-19T01:28:43.342411Z",
     "shell.execute_reply": "2024-01-19T01:28:43.341168Z"
    },
    "papermill": {
     "duration": 401.107518,
     "end_time": "2024-01-19T01:28:43.345604",
     "exception": false,
     "start_time": "2024-01-19T01:22:02.238086",
     "status": "completed"
    },
    "tags": []
   },
   "outputs": [],
   "source": [
    "tokenized_texts = [tokenizer.tokenize(sent) for sent in text_data]"
   ]
  },
  {
   "cell_type": "code",
   "execution_count": 12,
   "id": "18b00237",
   "metadata": {
    "execution": {
     "iopub.execute_input": "2024-01-19T01:28:43.362278Z",
     "iopub.status.busy": "2024-01-19T01:28:43.361817Z",
     "iopub.status.idle": "2024-01-19T01:29:01.130625Z",
     "shell.execute_reply": "2024-01-19T01:29:01.129270Z"
    },
    "papermill": {
     "duration": 17.784062,
     "end_time": "2024-01-19T01:29:01.137123",
     "exception": false,
     "start_time": "2024-01-19T01:28:43.353061",
     "status": "completed"
    },
    "tags": []
   },
   "outputs": [],
   "source": [
    "input_ids = [tokenizer.convert_tokens_to_ids(x) for x in tokenized_texts]\n",
    "input_ids = pad_sequences(input_ids, maxlen=512, dtype=\"long\", truncating=\"post\", padding=\"post\")"
   ]
  },
  {
   "cell_type": "code",
   "execution_count": 13,
   "id": "f2cbcff4",
   "metadata": {
    "execution": {
     "iopub.execute_input": "2024-01-19T01:29:01.154545Z",
     "iopub.status.busy": "2024-01-19T01:29:01.153342Z",
     "iopub.status.idle": "2024-01-19T01:29:01.556318Z",
     "shell.execute_reply": "2024-01-19T01:29:01.555102Z"
    },
    "papermill": {
     "duration": 0.414678,
     "end_time": "2024-01-19T01:29:01.559109",
     "exception": false,
     "start_time": "2024-01-19T01:29:01.144431",
     "status": "completed"
    },
    "tags": []
   },
   "outputs": [],
   "source": [
    "del tokenized_texts, text_data, tokenizer"
   ]
  },
  {
   "cell_type": "code",
   "execution_count": 14,
   "id": "db3cffc0",
   "metadata": {
    "execution": {
     "iopub.execute_input": "2024-01-19T01:29:01.575692Z",
     "iopub.status.busy": "2024-01-19T01:29:01.575223Z",
     "iopub.status.idle": "2024-01-19T01:29:01.585002Z",
     "shell.execute_reply": "2024-01-19T01:29:01.583918Z"
    },
    "papermill": {
     "duration": 0.021195,
     "end_time": "2024-01-19T01:29:01.587551",
     "exception": false,
     "start_time": "2024-01-19T01:29:01.566356",
     "status": "completed"
    },
    "tags": []
   },
   "outputs": [],
   "source": [
    "class TransformerBlock(tf.keras.layers.Layer):\n",
    "    def __init__(self, embed_dim, num_heads, ff_dim, rate=0.1):\n",
    "        super(TransformerBlock, self).__init__()\n",
    "        self.att = tf.keras.layers.MultiHeadAttention(num_heads=num_heads, key_dim=embed_dim)\n",
    "        self.ffn = tf.keras.Sequential(\n",
    "            [tf.keras.layers.Dense(ff_dim, activation=\"relu\"), tf.keras.layers.Dense(embed_dim),]\n",
    "        )\n",
    "        self.layernorm1 = tf.keras.layers.LayerNormalization(epsilon=1e-6)\n",
    "        self.layernorm2 = tf.keras.layers.LayerNormalization(epsilon=1e-6)\n",
    "        self.dropout1 = tf.keras.layers.Dropout(rate)\n",
    "        self.dropout2 = tf.keras.layers.Dropout(rate)\n",
    "\n",
    "    def call(self, inputs, training):\n",
    "        attn_output = self.att(inputs, inputs)\n",
    "        attn_output = self.dropout1(attn_output, training=training)\n",
    "        out1 = self.layernorm1(inputs + attn_output)\n",
    "        ffn_output = self.ffn(out1)\n",
    "        ffn_output = self.dropout2(ffn_output, training=training)\n",
    "        return self.layernorm2(out1 + ffn_output)"
   ]
  },
  {
   "cell_type": "code",
   "execution_count": 15,
   "id": "80fae49f",
   "metadata": {
    "execution": {
     "iopub.execute_input": "2024-01-19T01:29:01.605717Z",
     "iopub.status.busy": "2024-01-19T01:29:01.604333Z",
     "iopub.status.idle": "2024-01-19T01:29:08.569728Z",
     "shell.execute_reply": "2024-01-19T01:29:08.568600Z"
    },
    "papermill": {
     "duration": 7.014896,
     "end_time": "2024-01-19T01:29:08.609829",
     "exception": false,
     "start_time": "2024-01-19T01:29:01.594933",
     "status": "completed"
    },
    "tags": []
   },
   "outputs": [],
   "source": [
    "with tf.keras.utils.custom_object_scope({'TransformerBlock': TransformerBlock}):\n",
    "    model = tf.keras.models.load_model('/kaggle/input/inference-v2-8/8-eps-v2-train')"
   ]
  },
  {
   "cell_type": "code",
   "execution_count": 16,
   "id": "fd610830",
   "metadata": {
    "execution": {
     "iopub.execute_input": "2024-01-19T01:29:08.627265Z",
     "iopub.status.busy": "2024-01-19T01:29:08.626346Z",
     "iopub.status.idle": "2024-01-19T01:29:08.637729Z",
     "shell.execute_reply": "2024-01-19T01:29:08.636349Z"
    },
    "papermill": {
     "duration": 0.023581,
     "end_time": "2024-01-19T01:29:08.640998",
     "exception": false,
     "start_time": "2024-01-19T01:29:08.617417",
     "status": "completed"
    },
    "tags": []
   },
   "outputs": [],
   "source": [
    "layer_name = 'concatenate'\n",
    "Embedding_model = Model(inputs=model.input,\n",
    "                                 outputs=model.get_layer(layer_name).output)"
   ]
  },
  {
   "cell_type": "code",
   "execution_count": 17,
   "id": "d9061a1f",
   "metadata": {
    "execution": {
     "iopub.execute_input": "2024-01-19T01:29:08.658842Z",
     "iopub.status.busy": "2024-01-19T01:29:08.657623Z",
     "iopub.status.idle": "2024-01-19T01:29:08.727608Z",
     "shell.execute_reply": "2024-01-19T01:29:08.725864Z"
    },
    "papermill": {
     "duration": 0.088378,
     "end_time": "2024-01-19T01:29:08.737191",
     "exception": false,
     "start_time": "2024-01-19T01:29:08.648813",
     "status": "completed"
    },
    "tags": []
   },
   "outputs": [
    {
     "name": "stdout",
     "output_type": "stream",
     "text": [
      "Model: \"model\"\n",
      "__________________________________________________________________________________________________\n",
      " Layer (type)                Output Shape                 Param #   Connected to                  \n",
      "==================================================================================================\n",
      " input_1 (InputLayer)        [(None, 512)]                0         []                            \n",
      "                                                                                                  \n",
      " embedding (Embedding)       (None, 512, 64)              4800000   ['input_1[0][0]']             \n",
      "                                                                                                  \n",
      " bidirectional (Bidirection  (None, 512, 64)              24832     ['embedding[0][0]']           \n",
      " al)                                                                                              \n",
      "                                                                                                  \n",
      " transformer_block (Transfo  (None, 512, 64)              37664     ['bidirectional[0][0]']       \n",
      " rmerBlock)                                                                                       \n",
      "                                                                                                  \n",
      " conv1d (Conv1D)             (None, 169, 128)             57472     ['transformer_block[0][0]']   \n",
      "                                                                                                  \n",
      " global_max_pooling1d (Glob  (None, 128)                  0         ['conv1d[0][0]']              \n",
      " alMaxPooling1D)                                                                                  \n",
      "                                                                                                  \n",
      " reshape (Reshape)           (None, 128, 1)               0         ['global_max_pooling1d[0][0]']\n",
      "                                                                                                  \n",
      " reshape_1 (Reshape)         (None, 128, 1)               0         ['global_max_pooling1d[0][0]']\n",
      "                                                                                                  \n",
      " reshape_2 (Reshape)         (None, 128, 1)               0         ['global_max_pooling1d[0][0]']\n",
      "                                                                                                  \n",
      " conv1d_1 (Conv1D)           (None, 126, 128)             512       ['reshape[0][0]']             \n",
      "                                                                                                  \n",
      " conv1d_2 (Conv1D)           (None, 125, 64)              320       ['reshape_1[0][0]']           \n",
      "                                                                                                  \n",
      " conv1d_3 (Conv1D)           (None, 124, 64)              384       ['reshape_2[0][0]']           \n",
      "                                                                                                  \n",
      " global_average_pooling1d (  (None, 128)                  0         ['conv1d_1[0][0]']            \n",
      " GlobalAveragePooling1D)                                                                          \n",
      "                                                                                                  \n",
      " global_average_pooling1d_1  (None, 64)                   0         ['conv1d_2[0][0]']            \n",
      "  (GlobalAveragePooling1D)                                                                        \n",
      "                                                                                                  \n",
      " global_average_pooling1d_2  (None, 64)                   0         ['conv1d_3[0][0]']            \n",
      "  (GlobalAveragePooling1D)                                                                        \n",
      "                                                                                                  \n",
      " concatenate (Concatenate)   (None, 256)                  0         ['global_average_pooling1d[0][\n",
      "                                                                    0]',                          \n",
      "                                                                     'global_average_pooling1d_1[0\n",
      "                                                                    ][0]',                        \n",
      "                                                                     'global_average_pooling1d_2[0\n",
      "                                                                    ][0]']                        \n",
      "                                                                                                  \n",
      "==================================================================================================\n",
      "Total params: 4921184 (18.77 MB)\n",
      "Trainable params: 4921184 (18.77 MB)\n",
      "Non-trainable params: 0 (0.00 Byte)\n",
      "__________________________________________________________________________________________________\n"
     ]
    }
   ],
   "source": [
    "Embedding_model.summary()"
   ]
  },
  {
   "cell_type": "code",
   "execution_count": 18,
   "id": "cbcf5827",
   "metadata": {
    "execution": {
     "iopub.execute_input": "2024-01-19T01:29:08.760911Z",
     "iopub.status.busy": "2024-01-19T01:29:08.760412Z",
     "iopub.status.idle": "2024-01-19T01:35:32.091462Z",
     "shell.execute_reply": "2024-01-19T01:35:32.089060Z"
    },
    "papermill": {
     "duration": 383.346878,
     "end_time": "2024-01-19T01:35:32.094668",
     "exception": false,
     "start_time": "2024-01-19T01:29:08.747790",
     "status": "completed"
    },
    "tags": []
   },
   "outputs": [
    {
     "name": "stdout",
     "output_type": "stream",
     "text": [
      "1360/1360 [==============================] - 335s 246ms/step\n"
     ]
    }
   ],
   "source": [
    "preds = Embedding_model.predict(input_ids)"
   ]
  },
  {
   "cell_type": "code",
   "execution_count": 19,
   "id": "5460f623",
   "metadata": {
    "execution": {
     "iopub.execute_input": "2024-01-19T01:35:32.295126Z",
     "iopub.status.busy": "2024-01-19T01:35:32.294272Z",
     "iopub.status.idle": "2024-01-19T01:35:32.299312Z",
     "shell.execute_reply": "2024-01-19T01:35:32.298316Z"
    },
    "papermill": {
     "duration": 0.106425,
     "end_time": "2024-01-19T01:35:32.301382",
     "exception": false,
     "start_time": "2024-01-19T01:35:32.194957",
     "status": "completed"
    },
    "tags": []
   },
   "outputs": [],
   "source": [
    "train_features = preds[:train_size]\n",
    "test_features = preds[train_size:]"
   ]
  },
  {
   "cell_type": "code",
   "execution_count": 20,
   "id": "7c4d183a",
   "metadata": {
    "execution": {
     "iopub.execute_input": "2024-01-19T01:35:32.514340Z",
     "iopub.status.busy": "2024-01-19T01:35:32.513482Z",
     "iopub.status.idle": "2024-01-19T01:35:32.519425Z",
     "shell.execute_reply": "2024-01-19T01:35:32.518311Z"
    },
    "papermill": {
     "duration": 0.114748,
     "end_time": "2024-01-19T01:35:32.522054",
     "exception": false,
     "start_time": "2024-01-19T01:35:32.407306",
     "status": "completed"
    },
    "tags": []
   },
   "outputs": [],
   "source": [
    "del preds, model"
   ]
  },
  {
   "cell_type": "code",
   "execution_count": 21,
   "id": "b7b5e772",
   "metadata": {
    "execution": {
     "iopub.execute_input": "2024-01-19T01:35:32.725928Z",
     "iopub.status.busy": "2024-01-19T01:35:32.725440Z",
     "iopub.status.idle": "2024-01-19T01:35:32.730722Z",
     "shell.execute_reply": "2024-01-19T01:35:32.729499Z"
    },
    "papermill": {
     "duration": 0.111284,
     "end_time": "2024-01-19T01:35:32.732964",
     "exception": false,
     "start_time": "2024-01-19T01:35:32.621680",
     "status": "completed"
    },
    "tags": []
   },
   "outputs": [],
   "source": [
    "LOWERCASE = False\n",
    "VOCAB_SIZE = 50000"
   ]
  },
  {
   "cell_type": "code",
   "execution_count": 22,
   "id": "3f629fb2",
   "metadata": {
    "execution": {
     "iopub.execute_input": "2024-01-19T01:35:32.936883Z",
     "iopub.status.busy": "2024-01-19T01:35:32.936133Z",
     "iopub.status.idle": "2024-01-19T01:37:43.202792Z",
     "shell.execute_reply": "2024-01-19T01:37:43.201463Z"
    },
    "papermill": {
     "duration": 130.37272,
     "end_time": "2024-01-19T01:37:43.205073",
     "exception": false,
     "start_time": "2024-01-19T01:35:32.832353",
     "status": "completed"
    },
    "tags": []
   },
   "outputs": [
    {
     "name": "stdout",
     "output_type": "stream",
     "text": [
      "\n",
      "\n",
      "\n"
     ]
    },
    {
     "data": {
      "application/vnd.jupyter.widget-view+json": {
       "model_id": "0f373b24f486457db87d9f2ccdc46b90",
       "version_major": 2,
       "version_minor": 0
      },
      "text/plain": [
       "  0%|          | 0/3 [00:00<?, ?it/s]"
      ]
     },
     "metadata": {},
     "output_type": "display_data"
    },
    {
     "data": {
      "application/vnd.jupyter.widget-view+json": {
       "model_id": "b8cd060f728e4dbd9a969aa671c3d19a",
       "version_major": 2,
       "version_minor": 0
      },
      "text/plain": [
       "  0%|          | 0/43490 [00:00<?, ?it/s]"
      ]
     },
     "metadata": {},
     "output_type": "display_data"
    }
   ],
   "source": [
    "# Creating Byte-Pair Encoding tokenizer\n",
    "raw_tokenizer = Tokenizer(models.BPE(unk_token=\"[UNK]\"))\n",
    "raw_tokenizer.normalizer = normalizers.Sequence([normalizers.NFC()] + [normalizers.Lowercase()] if LOWERCASE else [])\n",
    "raw_tokenizer.pre_tokenizer = pre_tokenizers.ByteLevel()\n",
    "special_tokens = [\"[UNK]\", \"[PAD]\", \"[CLS]\", \"[SEP]\", \"[MASK]\"]\n",
    "trainer = trainers.BpeTrainer(vocab_size=VOCAB_SIZE, special_tokens=special_tokens)\n",
    "dataset = Dataset.from_pandas(df_test[['text']])\n",
    "def train_corp_iter(): \n",
    "    for i in range(0, len(dataset), 1000):\n",
    "        yield dataset[i : i + 1000][\"text\"]\n",
    "raw_tokenizer.train_from_iterator(train_corp_iter(), trainer=trainer)\n",
    "tokenizer = PreTrainedTokenizerFast(\n",
    "    tokenizer_object=raw_tokenizer,\n",
    "    unk_token=\"[UNK]\",\n",
    "    pad_token=\"[PAD]\",\n",
    "    cls_token=\"[CLS]\",\n",
    "    sep_token=\"[SEP]\",\n",
    "    mask_token=\"[MASK]\",\n",
    ")\n",
    "tokenized_texts_test = []\n",
    "\n",
    "for text in tqdm(df_test['text'].tolist()):\n",
    "    tokenized_texts_test.append(tokenizer.tokenize(text))\n",
    "\n",
    "tokenized_texts_train = []\n",
    "\n",
    "for text in tqdm(df_train['text'].tolist()):\n",
    "    tokenized_texts_train.append(tokenizer.tokenize(text))"
   ]
  },
  {
   "cell_type": "code",
   "execution_count": 23,
   "id": "58b25855",
   "metadata": {
    "execution": {
     "iopub.execute_input": "2024-01-19T01:37:43.406987Z",
     "iopub.status.busy": "2024-01-19T01:37:43.406437Z",
     "iopub.status.idle": "2024-01-19T01:41:31.950151Z",
     "shell.execute_reply": "2024-01-19T01:41:31.948807Z"
    },
    "papermill": {
     "duration": 228.751011,
     "end_time": "2024-01-19T01:41:32.056725",
     "exception": false,
     "start_time": "2024-01-19T01:37:43.305714",
     "status": "completed"
    },
    "tags": []
   },
   "outputs": [
    {
     "data": {
      "text/plain": [
       "8955"
      ]
     },
     "execution_count": 23,
     "metadata": {},
     "output_type": "execute_result"
    }
   ],
   "source": [
    "def dummy(text):\n",
    "    return text\n",
    "vectorizer = TfidfVectorizer(ngram_range=(3, 5), lowercase=False, sublinear_tf=True, analyzer = 'word',\n",
    "    tokenizer = dummy,\n",
    "    preprocessor = dummy,\n",
    "    token_pattern = None, strip_accents='unicode')\n",
    "\n",
    "vectorizer.fit(tokenized_texts_test)\n",
    "\n",
    "# Getting vocab\n",
    "vocab = vectorizer.vocabulary_\n",
    "\n",
    "\n",
    "vectorizer = TfidfVectorizer(ngram_range=(3, 5), lowercase=False, sublinear_tf=True, vocabulary=vocab,\n",
    "                            analyzer = 'word',\n",
    "                            tokenizer = dummy,\n",
    "                            preprocessor = dummy,\n",
    "                            token_pattern = None, strip_accents='unicode'\n",
    "                            )\n",
    "\n",
    "tf_train = vectorizer.fit_transform(tokenized_texts_train)\n",
    "tf_test = vectorizer.transform(tokenized_texts_test)\n",
    "\n",
    "del vectorizer\n",
    "gc.collect()"
   ]
  },
  {
   "cell_type": "code",
   "execution_count": 24,
   "id": "e7266d63",
   "metadata": {
    "execution": {
     "iopub.execute_input": "2024-01-19T01:41:32.276005Z",
     "iopub.status.busy": "2024-01-19T01:41:32.275114Z",
     "iopub.status.idle": "2024-01-19T01:41:32.900782Z",
     "shell.execute_reply": "2024-01-19T01:41:32.899454Z"
    },
    "papermill": {
     "duration": 0.742206,
     "end_time": "2024-01-19T01:41:32.903802",
     "exception": false,
     "start_time": "2024-01-19T01:41:32.161596",
     "status": "completed"
    },
    "tags": []
   },
   "outputs": [],
   "source": [
    "X_train = hstack([tf_train,csr_matrix(train_features)])\n",
    "X_test = hstack([tf_test,csr_matrix(test_features)])"
   ]
  },
  {
   "cell_type": "code",
   "execution_count": 25,
   "id": "24085f4d",
   "metadata": {
    "execution": {
     "iopub.execute_input": "2024-01-19T01:41:33.212649Z",
     "iopub.status.busy": "2024-01-19T01:41:33.211785Z",
     "iopub.status.idle": "2024-01-19T01:41:33.217218Z",
     "shell.execute_reply": "2024-01-19T01:41:33.216073Z"
    },
    "papermill": {
     "duration": 0.211827,
     "end_time": "2024-01-19T01:41:33.219734",
     "exception": false,
     "start_time": "2024-01-19T01:41:33.007907",
     "status": "completed"
    },
    "tags": []
   },
   "outputs": [],
   "source": [
    "del tf_train, tf_test, train_features, test_features"
   ]
  },
  {
   "cell_type": "code",
   "execution_count": 26,
   "id": "82e02a59",
   "metadata": {
    "execution": {
     "iopub.execute_input": "2024-01-19T01:41:33.424950Z",
     "iopub.status.busy": "2024-01-19T01:41:33.424445Z",
     "iopub.status.idle": "2024-01-19T01:41:33.439113Z",
     "shell.execute_reply": "2024-01-19T01:41:33.437988Z"
    },
    "papermill": {
     "duration": 0.121413,
     "end_time": "2024-01-19T01:41:33.442264",
     "exception": false,
     "start_time": "2024-01-19T01:41:33.320851",
     "status": "completed"
    },
    "tags": []
   },
   "outputs": [],
   "source": [
    "if len(df_test.text.values) <= 5:\n",
    "    sub.to_csv('submission.csv', index=False)\n",
    "else:\n",
    "    clf = MultinomialNB(alpha=0.02)\n",
    "    sgd_model = SGDClassifier(max_iter=8000, tol=1e-4, loss=\"modified_huber\") \n",
    "    p6={'n_iter': 3000,\n",
    "        'verbose': -1,\n",
    "        'objective': 'cross_entropy',\n",
    "        'metric': 'auc',\n",
    "        'learning_rate': 0.00581909898961407, \n",
    "        'colsample_bytree': 0.78,\n",
    "        'colsample_bynode': 0.8, \n",
    "        'lambda_l1': 4.562963348932286, \n",
    "        'lambda_l2': 2.97485, \n",
    "        'min_data_in_leaf': 115, \n",
    "        'max_depth': 23, \n",
    "        'max_bin': 898}\n",
    "      \n",
    "    lgb=LGBMClassifier(**p6)\n",
    "    cat=CatBoostClassifier(iterations=3000,\n",
    "                           verbose=0,\n",
    "                           l2_leaf_reg=6.6591278779517808,\n",
    "                           learning_rate=0.005599066836106983,\n",
    "                           subsample = 0.4,\n",
    "                           allow_const_label=True,\n",
    "                           loss_function = 'CrossEntropy')\n",
    "    \n",
    "    weights = [0.07,0.31,0.31,0.31]\n",
    " \n",
    "    ensemble = VotingClassifier(estimators=[('mnb',clf),\n",
    "                                            ('sgd', sgd_model),\n",
    "                                            ('lgb',lgb), \n",
    "                                            ('cat', cat)\n",
    "                                           ],\n",
    "                                weights=weights, voting='soft')\n",
    "    ensemble.fit(X_train,train_labels)\n",
    "    preds = ensemble.predict_proba(X_test)[:,1]\n",
    "    sub['generated'] = preds\n",
    "    sub.to_csv('submission.csv', index=False)\n",
    "    gc.collect()"
   ]
  },
  {
   "cell_type": "code",
   "execution_count": null,
   "id": "5522c30a",
   "metadata": {
    "papermill": {
     "duration": 0.099077,
     "end_time": "2024-01-19T01:41:33.642404",
     "exception": false,
     "start_time": "2024-01-19T01:41:33.543327",
     "status": "completed"
    },
    "tags": []
   },
   "outputs": [],
   "source": []
  }
 ],
 "metadata": {
  "kaggle": {
   "accelerator": "none",
   "dataSources": [
    {
     "databundleVersionId": 7516023,
     "sourceId": 61542,
     "sourceType": "competition"
    },
    {
     "datasetId": 1335671,
     "sourceId": 2233309,
     "sourceType": "datasetVersion"
    },
    {
     "datasetId": 4005256,
     "sourceId": 6977472,
     "sourceType": "datasetVersion"
    },
    {
     "datasetId": 4321677,
     "sourceId": 7428184,
     "sourceType": "datasetVersion"
    }
   ],
   "dockerImageVersionId": 30635,
   "isGpuEnabled": false,
   "isInternetEnabled": false,
   "language": "python",
   "sourceType": "notebook"
  },
  "kernelspec": {
   "display_name": "Python 3",
   "language": "python",
   "name": "python3"
  },
  "language_info": {
   "codemirror_mode": {
    "name": "ipython",
    "version": 3
   },
   "file_extension": ".py",
   "mimetype": "text/x-python",
   "name": "python",
   "nbconvert_exporter": "python",
   "pygments_lexer": "ipython3",
   "version": "3.10.12"
  },
  "papermill": {
   "default_parameters": {},
   "duration": 1217.269919,
   "end_time": "2024-01-19T01:41:36.570434",
   "environment_variables": {},
   "exception": null,
   "input_path": "__notebook__.ipynb",
   "output_path": "__notebook__.ipynb",
   "parameters": {},
   "start_time": "2024-01-19T01:21:19.300515",
   "version": "2.4.0"
  },
  "widgets": {
   "application/vnd.jupyter.widget-state+json": {
    "state": {
     "0f373b24f486457db87d9f2ccdc46b90": {
      "model_module": "@jupyter-widgets/controls",
      "model_module_version": "1.5.0",
      "model_name": "HBoxModel",
      "state": {
       "_dom_classes": [],
       "_model_module": "@jupyter-widgets/controls",
       "_model_module_version": "1.5.0",
       "_model_name": "HBoxModel",
       "_view_count": null,
       "_view_module": "@jupyter-widgets/controls",
       "_view_module_version": "1.5.0",
       "_view_name": "HBoxView",
       "box_style": "",
       "children": [
        "IPY_MODEL_a7371db8ccb54d61bbb10633962103e7",
        "IPY_MODEL_ed378afd340d4b5581c7eb8cc34daa27",
        "IPY_MODEL_98329545c54c4319803ee61ad4ad3e65"
       ],
       "layout": "IPY_MODEL_47b7def27f1042ad9c1e3fe2d8df4e9b"
      }
     },
     "14a6cc23c1ae41a9b77ef9580a95916f": {
      "model_module": "@jupyter-widgets/base",
      "model_module_version": "1.2.0",
      "model_name": "LayoutModel",
      "state": {
       "_model_module": "@jupyter-widgets/base",
       "_model_module_version": "1.2.0",
       "_model_name": "LayoutModel",
       "_view_count": null,
       "_view_module": "@jupyter-widgets/base",
       "_view_module_version": "1.2.0",
       "_view_name": "LayoutView",
       "align_content": null,
       "align_items": null,
       "align_self": null,
       "border": null,
       "bottom": null,
       "display": null,
       "flex": null,
       "flex_flow": null,
       "grid_area": null,
       "grid_auto_columns": null,
       "grid_auto_flow": null,
       "grid_auto_rows": null,
       "grid_column": null,
       "grid_gap": null,
       "grid_row": null,
       "grid_template_areas": null,
       "grid_template_columns": null,
       "grid_template_rows": null,
       "height": null,
       "justify_content": null,
       "justify_items": null,
       "left": null,
       "margin": null,
       "max_height": null,
       "max_width": null,
       "min_height": null,
       "min_width": null,
       "object_fit": null,
       "object_position": null,
       "order": null,
       "overflow": null,
       "overflow_x": null,
       "overflow_y": null,
       "padding": null,
       "right": null,
       "top": null,
       "visibility": null,
       "width": null
      }
     },
     "20f9d7a896294d4e9800b44d30653cd7": {
      "model_module": "@jupyter-widgets/controls",
      "model_module_version": "1.5.0",
      "model_name": "DescriptionStyleModel",
      "state": {
       "_model_module": "@jupyter-widgets/controls",
       "_model_module_version": "1.5.0",
       "_model_name": "DescriptionStyleModel",
       "_view_count": null,
       "_view_module": "@jupyter-widgets/base",
       "_view_module_version": "1.2.0",
       "_view_name": "StyleView",
       "description_width": ""
      }
     },
     "47b7def27f1042ad9c1e3fe2d8df4e9b": {
      "model_module": "@jupyter-widgets/base",
      "model_module_version": "1.2.0",
      "model_name": "LayoutModel",
      "state": {
       "_model_module": "@jupyter-widgets/base",
       "_model_module_version": "1.2.0",
       "_model_name": "LayoutModel",
       "_view_count": null,
       "_view_module": "@jupyter-widgets/base",
       "_view_module_version": "1.2.0",
       "_view_name": "LayoutView",
       "align_content": null,
       "align_items": null,
       "align_self": null,
       "border": null,
       "bottom": null,
       "display": null,
       "flex": null,
       "flex_flow": null,
       "grid_area": null,
       "grid_auto_columns": null,
       "grid_auto_flow": null,
       "grid_auto_rows": null,
       "grid_column": null,
       "grid_gap": null,
       "grid_row": null,
       "grid_template_areas": null,
       "grid_template_columns": null,
       "grid_template_rows": null,
       "height": null,
       "justify_content": null,
       "justify_items": null,
       "left": null,
       "margin": null,
       "max_height": null,
       "max_width": null,
       "min_height": null,
       "min_width": null,
       "object_fit": null,
       "object_position": null,
       "order": null,
       "overflow": null,
       "overflow_x": null,
       "overflow_y": null,
       "padding": null,
       "right": null,
       "top": null,
       "visibility": null,
       "width": null
      }
     },
     "4aceefbc926a40008b4931eee393769e": {
      "model_module": "@jupyter-widgets/controls",
      "model_module_version": "1.5.0",
      "model_name": "ProgressStyleModel",
      "state": {
       "_model_module": "@jupyter-widgets/controls",
       "_model_module_version": "1.5.0",
       "_model_name": "ProgressStyleModel",
       "_view_count": null,
       "_view_module": "@jupyter-widgets/base",
       "_view_module_version": "1.2.0",
       "_view_name": "StyleView",
       "bar_color": null,
       "description_width": ""
      }
     },
     "5f8393c9bf2f477f847944bf76df031b": {
      "model_module": "@jupyter-widgets/base",
      "model_module_version": "1.2.0",
      "model_name": "LayoutModel",
      "state": {
       "_model_module": "@jupyter-widgets/base",
       "_model_module_version": "1.2.0",
       "_model_name": "LayoutModel",
       "_view_count": null,
       "_view_module": "@jupyter-widgets/base",
       "_view_module_version": "1.2.0",
       "_view_name": "LayoutView",
       "align_content": null,
       "align_items": null,
       "align_self": null,
       "border": null,
       "bottom": null,
       "display": null,
       "flex": null,
       "flex_flow": null,
       "grid_area": null,
       "grid_auto_columns": null,
       "grid_auto_flow": null,
       "grid_auto_rows": null,
       "grid_column": null,
       "grid_gap": null,
       "grid_row": null,
       "grid_template_areas": null,
       "grid_template_columns": null,
       "grid_template_rows": null,
       "height": null,
       "justify_content": null,
       "justify_items": null,
       "left": null,
       "margin": null,
       "max_height": null,
       "max_width": null,
       "min_height": null,
       "min_width": null,
       "object_fit": null,
       "object_position": null,
       "order": null,
       "overflow": null,
       "overflow_x": null,
       "overflow_y": null,
       "padding": null,
       "right": null,
       "top": null,
       "visibility": null,
       "width": null
      }
     },
     "6ca40b89980e472d8528d13123aa08f8": {
      "model_module": "@jupyter-widgets/controls",
      "model_module_version": "1.5.0",
      "model_name": "DescriptionStyleModel",
      "state": {
       "_model_module": "@jupyter-widgets/controls",
       "_model_module_version": "1.5.0",
       "_model_name": "DescriptionStyleModel",
       "_view_count": null,
       "_view_module": "@jupyter-widgets/base",
       "_view_module_version": "1.2.0",
       "_view_name": "StyleView",
       "description_width": ""
      }
     },
     "946de6a4457c4de6bdc261ffbf24c9a3": {
      "model_module": "@jupyter-widgets/base",
      "model_module_version": "1.2.0",
      "model_name": "LayoutModel",
      "state": {
       "_model_module": "@jupyter-widgets/base",
       "_model_module_version": "1.2.0",
       "_model_name": "LayoutModel",
       "_view_count": null,
       "_view_module": "@jupyter-widgets/base",
       "_view_module_version": "1.2.0",
       "_view_name": "LayoutView",
       "align_content": null,
       "align_items": null,
       "align_self": null,
       "border": null,
       "bottom": null,
       "display": null,
       "flex": null,
       "flex_flow": null,
       "grid_area": null,
       "grid_auto_columns": null,
       "grid_auto_flow": null,
       "grid_auto_rows": null,
       "grid_column": null,
       "grid_gap": null,
       "grid_row": null,
       "grid_template_areas": null,
       "grid_template_columns": null,
       "grid_template_rows": null,
       "height": null,
       "justify_content": null,
       "justify_items": null,
       "left": null,
       "margin": null,
       "max_height": null,
       "max_width": null,
       "min_height": null,
       "min_width": null,
       "object_fit": null,
       "object_position": null,
       "order": null,
       "overflow": null,
       "overflow_x": null,
       "overflow_y": null,
       "padding": null,
       "right": null,
       "top": null,
       "visibility": null,
       "width": null
      }
     },
     "9597000608074b8787b74e1c22f0b926": {
      "model_module": "@jupyter-widgets/base",
      "model_module_version": "1.2.0",
      "model_name": "LayoutModel",
      "state": {
       "_model_module": "@jupyter-widgets/base",
       "_model_module_version": "1.2.0",
       "_model_name": "LayoutModel",
       "_view_count": null,
       "_view_module": "@jupyter-widgets/base",
       "_view_module_version": "1.2.0",
       "_view_name": "LayoutView",
       "align_content": null,
       "align_items": null,
       "align_self": null,
       "border": null,
       "bottom": null,
       "display": null,
       "flex": null,
       "flex_flow": null,
       "grid_area": null,
       "grid_auto_columns": null,
       "grid_auto_flow": null,
       "grid_auto_rows": null,
       "grid_column": null,
       "grid_gap": null,
       "grid_row": null,
       "grid_template_areas": null,
       "grid_template_columns": null,
       "grid_template_rows": null,
       "height": null,
       "justify_content": null,
       "justify_items": null,
       "left": null,
       "margin": null,
       "max_height": null,
       "max_width": null,
       "min_height": null,
       "min_width": null,
       "object_fit": null,
       "object_position": null,
       "order": null,
       "overflow": null,
       "overflow_x": null,
       "overflow_y": null,
       "padding": null,
       "right": null,
       "top": null,
       "visibility": null,
       "width": null
      }
     },
     "98329545c54c4319803ee61ad4ad3e65": {
      "model_module": "@jupyter-widgets/controls",
      "model_module_version": "1.5.0",
      "model_name": "HTMLModel",
      "state": {
       "_dom_classes": [],
       "_model_module": "@jupyter-widgets/controls",
       "_model_module_version": "1.5.0",
       "_model_name": "HTMLModel",
       "_view_count": null,
       "_view_module": "@jupyter-widgets/controls",
       "_view_module_version": "1.5.0",
       "_view_name": "HTMLView",
       "description": "",
       "description_tooltip": null,
       "layout": "IPY_MODEL_9597000608074b8787b74e1c22f0b926",
       "placeholder": "​",
       "style": "IPY_MODEL_20f9d7a896294d4e9800b44d30653cd7",
       "value": " 3/3 [00:00&lt;00:00, 169.64it/s]"
      }
     },
     "9b56ae8837c646a1b35d09ab109dc976": {
      "model_module": "@jupyter-widgets/base",
      "model_module_version": "1.2.0",
      "model_name": "LayoutModel",
      "state": {
       "_model_module": "@jupyter-widgets/base",
       "_model_module_version": "1.2.0",
       "_model_name": "LayoutModel",
       "_view_count": null,
       "_view_module": "@jupyter-widgets/base",
       "_view_module_version": "1.2.0",
       "_view_name": "LayoutView",
       "align_content": null,
       "align_items": null,
       "align_self": null,
       "border": null,
       "bottom": null,
       "display": null,
       "flex": null,
       "flex_flow": null,
       "grid_area": null,
       "grid_auto_columns": null,
       "grid_auto_flow": null,
       "grid_auto_rows": null,
       "grid_column": null,
       "grid_gap": null,
       "grid_row": null,
       "grid_template_areas": null,
       "grid_template_columns": null,
       "grid_template_rows": null,
       "height": null,
       "justify_content": null,
       "justify_items": null,
       "left": null,
       "margin": null,
       "max_height": null,
       "max_width": null,
       "min_height": null,
       "min_width": null,
       "object_fit": null,
       "object_position": null,
       "order": null,
       "overflow": null,
       "overflow_x": null,
       "overflow_y": null,
       "padding": null,
       "right": null,
       "top": null,
       "visibility": null,
       "width": null
      }
     },
     "a7371db8ccb54d61bbb10633962103e7": {
      "model_module": "@jupyter-widgets/controls",
      "model_module_version": "1.5.0",
      "model_name": "HTMLModel",
      "state": {
       "_dom_classes": [],
       "_model_module": "@jupyter-widgets/controls",
       "_model_module_version": "1.5.0",
       "_model_name": "HTMLModel",
       "_view_count": null,
       "_view_module": "@jupyter-widgets/controls",
       "_view_module_version": "1.5.0",
       "_view_name": "HTMLView",
       "description": "",
       "description_tooltip": null,
       "layout": "IPY_MODEL_dc56ea462c294121ae79917be41f36e8",
       "placeholder": "​",
       "style": "IPY_MODEL_cb5dbb9e8f014591a877ca0c6a2786cc",
       "value": "100%"
      }
     },
     "ae0ed7b5fb7e4b6f9b23e045c3d3f2c8": {
      "model_module": "@jupyter-widgets/controls",
      "model_module_version": "1.5.0",
      "model_name": "DescriptionStyleModel",
      "state": {
       "_model_module": "@jupyter-widgets/controls",
       "_model_module_version": "1.5.0",
       "_model_name": "DescriptionStyleModel",
       "_view_count": null,
       "_view_module": "@jupyter-widgets/base",
       "_view_module_version": "1.2.0",
       "_view_name": "StyleView",
       "description_width": ""
      }
     },
     "b1f994e50dfd4924924a0d7daaf856dc": {
      "model_module": "@jupyter-widgets/controls",
      "model_module_version": "1.5.0",
      "model_name": "HTMLModel",
      "state": {
       "_dom_classes": [],
       "_model_module": "@jupyter-widgets/controls",
       "_model_module_version": "1.5.0",
       "_model_name": "HTMLModel",
       "_view_count": null,
       "_view_module": "@jupyter-widgets/controls",
       "_view_module_version": "1.5.0",
       "_view_name": "HTMLView",
       "description": "",
       "description_tooltip": null,
       "layout": "IPY_MODEL_946de6a4457c4de6bdc261ffbf24c9a3",
       "placeholder": "​",
       "style": "IPY_MODEL_6ca40b89980e472d8528d13123aa08f8",
       "value": "100%"
      }
     },
     "b8cd060f728e4dbd9a969aa671c3d19a": {
      "model_module": "@jupyter-widgets/controls",
      "model_module_version": "1.5.0",
      "model_name": "HBoxModel",
      "state": {
       "_dom_classes": [],
       "_model_module": "@jupyter-widgets/controls",
       "_model_module_version": "1.5.0",
       "_model_name": "HBoxModel",
       "_view_count": null,
       "_view_module": "@jupyter-widgets/controls",
       "_view_module_version": "1.5.0",
       "_view_name": "HBoxView",
       "box_style": "",
       "children": [
        "IPY_MODEL_b1f994e50dfd4924924a0d7daaf856dc",
        "IPY_MODEL_e1467484904a49ae9e70ba7efa22658d",
        "IPY_MODEL_b953eecf61b74377a7c60eb970cb77fe"
       ],
       "layout": "IPY_MODEL_5f8393c9bf2f477f847944bf76df031b"
      }
     },
     "b953eecf61b74377a7c60eb970cb77fe": {
      "model_module": "@jupyter-widgets/controls",
      "model_module_version": "1.5.0",
      "model_name": "HTMLModel",
      "state": {
       "_dom_classes": [],
       "_model_module": "@jupyter-widgets/controls",
       "_model_module_version": "1.5.0",
       "_model_name": "HTMLModel",
       "_view_count": null,
       "_view_module": "@jupyter-widgets/controls",
       "_view_module_version": "1.5.0",
       "_view_name": "HTMLView",
       "description": "",
       "description_tooltip": null,
       "layout": "IPY_MODEL_14a6cc23c1ae41a9b77ef9580a95916f",
       "placeholder": "​",
       "style": "IPY_MODEL_ae0ed7b5fb7e4b6f9b23e045c3d3f2c8",
       "value": " 43490/43490 [02:10&lt;00:00, 356.30it/s]"
      }
     },
     "c67a5974b3464407aa6eedcafd3ec10d": {
      "model_module": "@jupyter-widgets/controls",
      "model_module_version": "1.5.0",
      "model_name": "ProgressStyleModel",
      "state": {
       "_model_module": "@jupyter-widgets/controls",
       "_model_module_version": "1.5.0",
       "_model_name": "ProgressStyleModel",
       "_view_count": null,
       "_view_module": "@jupyter-widgets/base",
       "_view_module_version": "1.2.0",
       "_view_name": "StyleView",
       "bar_color": null,
       "description_width": ""
      }
     },
     "cb5dbb9e8f014591a877ca0c6a2786cc": {
      "model_module": "@jupyter-widgets/controls",
      "model_module_version": "1.5.0",
      "model_name": "DescriptionStyleModel",
      "state": {
       "_model_module": "@jupyter-widgets/controls",
       "_model_module_version": "1.5.0",
       "_model_name": "DescriptionStyleModel",
       "_view_count": null,
       "_view_module": "@jupyter-widgets/base",
       "_view_module_version": "1.2.0",
       "_view_name": "StyleView",
       "description_width": ""
      }
     },
     "d8b21a7044c14a449d6a2b2cef3c28d3": {
      "model_module": "@jupyter-widgets/base",
      "model_module_version": "1.2.0",
      "model_name": "LayoutModel",
      "state": {
       "_model_module": "@jupyter-widgets/base",
       "_model_module_version": "1.2.0",
       "_model_name": "LayoutModel",
       "_view_count": null,
       "_view_module": "@jupyter-widgets/base",
       "_view_module_version": "1.2.0",
       "_view_name": "LayoutView",
       "align_content": null,
       "align_items": null,
       "align_self": null,
       "border": null,
       "bottom": null,
       "display": null,
       "flex": null,
       "flex_flow": null,
       "grid_area": null,
       "grid_auto_columns": null,
       "grid_auto_flow": null,
       "grid_auto_rows": null,
       "grid_column": null,
       "grid_gap": null,
       "grid_row": null,
       "grid_template_areas": null,
       "grid_template_columns": null,
       "grid_template_rows": null,
       "height": null,
       "justify_content": null,
       "justify_items": null,
       "left": null,
       "margin": null,
       "max_height": null,
       "max_width": null,
       "min_height": null,
       "min_width": null,
       "object_fit": null,
       "object_position": null,
       "order": null,
       "overflow": null,
       "overflow_x": null,
       "overflow_y": null,
       "padding": null,
       "right": null,
       "top": null,
       "visibility": null,
       "width": null
      }
     },
     "dc56ea462c294121ae79917be41f36e8": {
      "model_module": "@jupyter-widgets/base",
      "model_module_version": "1.2.0",
      "model_name": "LayoutModel",
      "state": {
       "_model_module": "@jupyter-widgets/base",
       "_model_module_version": "1.2.0",
       "_model_name": "LayoutModel",
       "_view_count": null,
       "_view_module": "@jupyter-widgets/base",
       "_view_module_version": "1.2.0",
       "_view_name": "LayoutView",
       "align_content": null,
       "align_items": null,
       "align_self": null,
       "border": null,
       "bottom": null,
       "display": null,
       "flex": null,
       "flex_flow": null,
       "grid_area": null,
       "grid_auto_columns": null,
       "grid_auto_flow": null,
       "grid_auto_rows": null,
       "grid_column": null,
       "grid_gap": null,
       "grid_row": null,
       "grid_template_areas": null,
       "grid_template_columns": null,
       "grid_template_rows": null,
       "height": null,
       "justify_content": null,
       "justify_items": null,
       "left": null,
       "margin": null,
       "max_height": null,
       "max_width": null,
       "min_height": null,
       "min_width": null,
       "object_fit": null,
       "object_position": null,
       "order": null,
       "overflow": null,
       "overflow_x": null,
       "overflow_y": null,
       "padding": null,
       "right": null,
       "top": null,
       "visibility": null,
       "width": null
      }
     },
     "e1467484904a49ae9e70ba7efa22658d": {
      "model_module": "@jupyter-widgets/controls",
      "model_module_version": "1.5.0",
      "model_name": "FloatProgressModel",
      "state": {
       "_dom_classes": [],
       "_model_module": "@jupyter-widgets/controls",
       "_model_module_version": "1.5.0",
       "_model_name": "FloatProgressModel",
       "_view_count": null,
       "_view_module": "@jupyter-widgets/controls",
       "_view_module_version": "1.5.0",
       "_view_name": "ProgressView",
       "bar_style": "success",
       "description": "",
       "description_tooltip": null,
       "layout": "IPY_MODEL_9b56ae8837c646a1b35d09ab109dc976",
       "max": 43490.0,
       "min": 0.0,
       "orientation": "horizontal",
       "style": "IPY_MODEL_c67a5974b3464407aa6eedcafd3ec10d",
       "value": 43490.0
      }
     },
     "ed378afd340d4b5581c7eb8cc34daa27": {
      "model_module": "@jupyter-widgets/controls",
      "model_module_version": "1.5.0",
      "model_name": "FloatProgressModel",
      "state": {
       "_dom_classes": [],
       "_model_module": "@jupyter-widgets/controls",
       "_model_module_version": "1.5.0",
       "_model_name": "FloatProgressModel",
       "_view_count": null,
       "_view_module": "@jupyter-widgets/controls",
       "_view_module_version": "1.5.0",
       "_view_name": "ProgressView",
       "bar_style": "success",
       "description": "",
       "description_tooltip": null,
       "layout": "IPY_MODEL_d8b21a7044c14a449d6a2b2cef3c28d3",
       "max": 3.0,
       "min": 0.0,
       "orientation": "horizontal",
       "style": "IPY_MODEL_4aceefbc926a40008b4931eee393769e",
       "value": 3.0
      }
     }
    },
    "version_major": 2,
    "version_minor": 0
   }
  }
 },
 "nbformat": 4,
 "nbformat_minor": 5
}
